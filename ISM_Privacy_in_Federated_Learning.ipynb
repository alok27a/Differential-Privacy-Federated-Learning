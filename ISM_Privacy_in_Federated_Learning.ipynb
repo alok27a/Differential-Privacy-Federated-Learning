{
  "cells": [
    {
      "cell_type": "markdown",
      "metadata": {
        "id": "zNkaCemcQq4D"
      },
      "source": [
        "## Installing TFF Version 0.20.0"
      ]
    },
    {
      "cell_type": "code",
      "execution_count": 1,
      "metadata": {
        "colab": {
          "base_uri": "https://localhost:8080/"
        },
        "id": "RduwhSRmOS2A",
        "outputId": "2096a886-4a47-4628-96bd-33ddf54ce5eb"
      },
      "outputs": [
        {
          "output_type": "stream",
          "name": "stdout",
          "text": [
            "\u001b[2K     \u001b[90m━━━━━━━━━━━━━━━━━━━━━━━━━━━━━━━━━━━━━━━━\u001b[0m \u001b[32m40.1/40.1 MB\u001b[0m \u001b[31m14.6 MB/s\u001b[0m eta \u001b[36m0:00:00\u001b[0m\n",
            "\u001b[2K     \u001b[90m━━━━━━━━━━━━━━━━━━━━━━━━━━━━━━━━━━━━━━\u001b[0m \u001b[32m142.7/142.7 KB\u001b[0m \u001b[31m16.1 MB/s\u001b[0m eta \u001b[36m0:00:00\u001b[0m\n",
            "\u001b[2K     \u001b[90m━━━━━━━━━━━━━━━━━━━━━━━━━━━━━━━━━━━━━━\u001b[0m \u001b[32m349.0/349.0 KB\u001b[0m \u001b[31m33.8 MB/s\u001b[0m eta \u001b[36m0:00:00\u001b[0m\n",
            "\u001b[2K     \u001b[90m━━━━━━━━━━━━━━━━━━━━━━━━━━━━━━━━━━━━━━\u001b[0m \u001b[32m243.8/243.8 KB\u001b[0m \u001b[31m17.7 MB/s\u001b[0m eta \u001b[36m0:00:00\u001b[0m\n",
            "\u001b[2K     \u001b[90m━━━━━━━━━━━━━━━━━━━━━━━━━━━━━━━━━━━━━━━━\u001b[0m \u001b[32m89.9/89.9 KB\u001b[0m \u001b[31m10.9 MB/s\u001b[0m eta \u001b[36m0:00:00\u001b[0m\n",
            "\u001b[2K     \u001b[90m━━━━━━━━━━━━━━━━━━━━━━━━━━━━━━━━━━━━━━\u001b[0m \u001b[32m120.2/120.2 KB\u001b[0m \u001b[31m11.9 MB/s\u001b[0m eta \u001b[36m0:00:00\u001b[0m\n",
            "\u001b[2K     \u001b[90m━━━━━━━━━━━━━━━━━━━━━━━━━━━━━━━━━━━━━━\u001b[0m \u001b[32m990.1/990.1 KB\u001b[0m \u001b[31m59.6 MB/s\u001b[0m eta \u001b[36m0:00:00\u001b[0m\n",
            "\u001b[?25h  Preparing metadata (setup.py) ... \u001b[?25l\u001b[?25hdone\n",
            "\u001b[2K     \u001b[90m━━━━━━━━━━━━━━━━━━━━━━━━━━━━━━━━━━━━━━\u001b[0m \u001b[32m238.9/238.9 KB\u001b[0m \u001b[31m24.1 MB/s\u001b[0m eta \u001b[36m0:00:00\u001b[0m\n",
            "\u001b[2K     \u001b[90m━━━━━━━━━━━━━━━━━━━━━━━━━━━━━━━━━━━━━━━━\u001b[0m \u001b[32m3.0/3.0 MB\u001b[0m \u001b[31m66.3 MB/s\u001b[0m eta \u001b[36m0:00:00\u001b[0m\n",
            "\u001b[2K     \u001b[90m━━━━━━━━━━━━━━━━━━━━━━━━━━━━━━━━━━━━━━━━\u001b[0m \u001b[32m71.3/71.3 MB\u001b[0m \u001b[31m13.3 MB/s\u001b[0m eta \u001b[36m0:00:00\u001b[0m\n",
            "\u001b[2K     \u001b[90m━━━━━━━━━━━━━━━━━━━━━━━━━━━━━━━━━━━━━━━━\u001b[0m \u001b[32m60.6/60.6 KB\u001b[0m \u001b[31m6.2 MB/s\u001b[0m eta \u001b[36m0:00:00\u001b[0m\n",
            "\u001b[2K     \u001b[90m━━━━━━━━━━━━━━━━━━━━━━━━━━━━━━━━━━━━━━\u001b[0m \u001b[32m532.6/532.6 KB\u001b[0m \u001b[31m38.5 MB/s\u001b[0m eta \u001b[36m0:00:00\u001b[0m\n",
            "\u001b[2K     \u001b[90m━━━━━━━━━━━━━━━━━━━━━━━━━━━━━━━━━━━━━━━━\u001b[0m \u001b[32m39.8/39.8 MB\u001b[0m \u001b[31m17.0 MB/s\u001b[0m eta \u001b[36m0:00:00\u001b[0m\n",
            "\u001b[2K     \u001b[90m━━━━━━━━━━━━━━━━━━━━━━━━━━━━━━━━━━━━━━\u001b[0m \u001b[32m126.7/126.7 KB\u001b[0m \u001b[31m12.6 MB/s\u001b[0m eta \u001b[36m0:00:00\u001b[0m\n",
            "\u001b[2K     \u001b[90m━━━━━━━━━━━━━━━━━━━━━━━━━━━━━━━━━━━━━━━━\u001b[0m \u001b[32m2.0/2.0 MB\u001b[0m \u001b[31m63.4 MB/s\u001b[0m eta \u001b[36m0:00:00\u001b[0m\n",
            "\u001b[2K     \u001b[90m━━━━━━━━━━━━━━━━━━━━━━━━━━━━━━━━━━━━━━\u001b[0m \u001b[32m146.0/146.0 KB\u001b[0m \u001b[31m16.7 MB/s\u001b[0m eta \u001b[36m0:00:00\u001b[0m\n",
            "\u001b[2K     \u001b[90m━━━━━━━━━━━━━━━━━━━━━━━━━━━━━━━━━━━━━━━━\u001b[0m \u001b[32m2.8/2.8 MB\u001b[0m \u001b[31m95.3 MB/s\u001b[0m eta \u001b[36m0:00:00\u001b[0m\n",
            "\u001b[2K     \u001b[90m━━━━━━━━━━━━━━━━━━━━━━━━━━━━━━━━━━━━━━━━\u001b[0m \u001b[32m5.7/5.7 MB\u001b[0m \u001b[31m88.7 MB/s\u001b[0m eta \u001b[36m0:00:00\u001b[0m\n",
            "\u001b[2K     \u001b[90m━━━━━━━━━━━━━━━━━━━━━━━━━━━━━━━━━━━━━━━━\u001b[0m \u001b[32m42.6/42.6 KB\u001b[0m \u001b[31m2.5 MB/s\u001b[0m eta \u001b[36m0:00:00\u001b[0m\n",
            "\u001b[?25h  Building wheel for jax (setup.py) ... \u001b[?25l\u001b[?25hdone\n",
            "\u001b[31mERROR: pip's dependency resolver does not currently take into account all the packages that are installed. This behaviour is the source of the following dependency conflicts.\n",
            "pymc 5.1.2 requires cachetools>=4.2.1, but you have cachetools 3.1.1 which is incompatible.\n",
            "orbax 0.1.6 requires jax>=0.4.6, but you have jax 0.3.14 which is incompatible.\n",
            "google-colab 1.0.0 requires portpicker~=1.3.1, but you have portpicker 1.5.2 which is incompatible.\n",
            "flax 0.6.7 requires jax>=0.4.2, but you have jax 0.3.14 which is incompatible.\n",
            "arviz 0.15.1 requires scipy>=1.8.0, but you have scipy 1.7.3 which is incompatible.\u001b[0m\u001b[31m\n",
            "\u001b[0mLooking in indexes: https://pypi.org/simple, https://us-python.pkg.dev/colab-wheels/public/simple/\n",
            "Requirement already satisfied: tensorflow in /usr/local/lib/python3.9/dist-packages (2.11.0)\n",
            "Requirement already satisfied: numpy>=1.20 in /usr/local/lib/python3.9/dist-packages (from tensorflow) (1.22.4)\n",
            "Requirement already satisfied: opt-einsum>=2.3.2 in /usr/local/lib/python3.9/dist-packages (from tensorflow) (3.3.0)\n",
            "Requirement already satisfied: google-pasta>=0.1.1 in /usr/local/lib/python3.9/dist-packages (from tensorflow) (0.2.0)\n",
            "Requirement already satisfied: protobuf<3.20,>=3.9.2 in /usr/local/lib/python3.9/dist-packages (from tensorflow) (3.19.6)\n",
            "Requirement already satisfied: absl-py>=1.0.0 in /usr/local/lib/python3.9/dist-packages (from tensorflow) (1.0.0)\n",
            "Requirement already satisfied: astunparse>=1.6.0 in /usr/local/lib/python3.9/dist-packages (from tensorflow) (1.6.3)\n",
            "Requirement already satisfied: termcolor>=1.1.0 in /usr/local/lib/python3.9/dist-packages (from tensorflow) (2.2.0)\n",
            "Requirement already satisfied: tensorflow-estimator<2.12,>=2.11.0 in /usr/local/lib/python3.9/dist-packages (from tensorflow) (2.11.0)\n",
            "Requirement already satisfied: gast<=0.4.0,>=0.2.1 in /usr/local/lib/python3.9/dist-packages (from tensorflow) (0.4.0)\n",
            "Requirement already satisfied: packaging in /usr/local/lib/python3.9/dist-packages (from tensorflow) (22.0)\n",
            "Requirement already satisfied: setuptools in /usr/local/lib/python3.9/dist-packages (from tensorflow) (67.6.0)\n",
            "Requirement already satisfied: grpcio<2.0,>=1.24.3 in /usr/local/lib/python3.9/dist-packages (from tensorflow) (1.51.3)\n",
            "Requirement already satisfied: h5py>=2.9.0 in /usr/local/lib/python3.9/dist-packages (from tensorflow) (3.8.0)\n",
            "Requirement already satisfied: tensorboard<2.12,>=2.11 in /usr/local/lib/python3.9/dist-packages (from tensorflow) (2.11.2)\n",
            "Requirement already satisfied: wrapt>=1.11.0 in /usr/local/lib/python3.9/dist-packages (from tensorflow) (1.15.0)\n",
            "Requirement already satisfied: flatbuffers>=2.0 in /usr/local/lib/python3.9/dist-packages (from tensorflow) (2.0.7)\n",
            "Requirement already satisfied: typing-extensions>=3.6.6 in /usr/local/lib/python3.9/dist-packages (from tensorflow) (4.4.0)\n",
            "Requirement already satisfied: libclang>=13.0.0 in /usr/local/lib/python3.9/dist-packages (from tensorflow) (15.0.6.1)\n",
            "Requirement already satisfied: tensorflow-io-gcs-filesystem>=0.23.1 in /usr/local/lib/python3.9/dist-packages (from tensorflow) (0.31.0)\n",
            "Requirement already satisfied: six>=1.12.0 in /usr/local/lib/python3.9/dist-packages (from tensorflow) (1.16.0)\n",
            "Requirement already satisfied: keras<2.12,>=2.11.0 in /usr/local/lib/python3.9/dist-packages (from tensorflow) (2.11.0)\n",
            "Requirement already satisfied: wheel<1.0,>=0.23.0 in /usr/local/lib/python3.9/dist-packages (from astunparse>=1.6.0->tensorflow) (0.40.0)\n",
            "Requirement already satisfied: markdown>=2.6.8 in /usr/local/lib/python3.9/dist-packages (from tensorboard<2.12,>=2.11->tensorflow) (3.4.3)\n",
            "Requirement already satisfied: werkzeug>=1.0.1 in /usr/local/lib/python3.9/dist-packages (from tensorboard<2.12,>=2.11->tensorflow) (2.2.3)\n",
            "Requirement already satisfied: tensorboard-data-server<0.7.0,>=0.6.0 in /usr/local/lib/python3.9/dist-packages (from tensorboard<2.12,>=2.11->tensorflow) (0.6.1)\n",
            "Requirement already satisfied: tensorboard-plugin-wit>=1.6.0 in /usr/local/lib/python3.9/dist-packages (from tensorboard<2.12,>=2.11->tensorflow) (1.8.1)\n",
            "Requirement already satisfied: google-auth<3,>=1.6.3 in /usr/local/lib/python3.9/dist-packages (from tensorboard<2.12,>=2.11->tensorflow) (2.16.2)\n",
            "Requirement already satisfied: google-auth-oauthlib<0.5,>=0.4.1 in /usr/local/lib/python3.9/dist-packages (from tensorboard<2.12,>=2.11->tensorflow) (0.4.6)\n",
            "Requirement already satisfied: requests<3,>=2.21.0 in /usr/local/lib/python3.9/dist-packages (from tensorboard<2.12,>=2.11->tensorflow) (2.27.1)\n",
            "Requirement already satisfied: rsa<5,>=3.1.4 in /usr/local/lib/python3.9/dist-packages (from google-auth<3,>=1.6.3->tensorboard<2.12,>=2.11->tensorflow) (4.9)\n",
            "Requirement already satisfied: pyasn1-modules>=0.2.1 in /usr/local/lib/python3.9/dist-packages (from google-auth<3,>=1.6.3->tensorboard<2.12,>=2.11->tensorflow) (0.2.8)\n",
            "Requirement already satisfied: cachetools<6.0,>=2.0.0 in /usr/local/lib/python3.9/dist-packages (from google-auth<3,>=1.6.3->tensorboard<2.12,>=2.11->tensorflow) (3.1.1)\n",
            "Requirement already satisfied: requests-oauthlib>=0.7.0 in /usr/local/lib/python3.9/dist-packages (from google-auth-oauthlib<0.5,>=0.4.1->tensorboard<2.12,>=2.11->tensorflow) (1.3.1)\n",
            "Requirement already satisfied: importlib-metadata>=4.4 in /usr/local/lib/python3.9/dist-packages (from markdown>=2.6.8->tensorboard<2.12,>=2.11->tensorflow) (6.1.0)\n",
            "Requirement already satisfied: idna<4,>=2.5 in /usr/local/lib/python3.9/dist-packages (from requests<3,>=2.21.0->tensorboard<2.12,>=2.11->tensorflow) (3.4)\n",
            "Requirement already satisfied: charset-normalizer~=2.0.0 in /usr/local/lib/python3.9/dist-packages (from requests<3,>=2.21.0->tensorboard<2.12,>=2.11->tensorflow) (2.0.12)\n",
            "Requirement already satisfied: urllib3<1.27,>=1.21.1 in /usr/local/lib/python3.9/dist-packages (from requests<3,>=2.21.0->tensorboard<2.12,>=2.11->tensorflow) (1.26.15)\n",
            "Requirement already satisfied: certifi>=2017.4.17 in /usr/local/lib/python3.9/dist-packages (from requests<3,>=2.21.0->tensorboard<2.12,>=2.11->tensorflow) (2022.12.7)\n",
            "Requirement already satisfied: MarkupSafe>=2.1.1 in /usr/local/lib/python3.9/dist-packages (from werkzeug>=1.0.1->tensorboard<2.12,>=2.11->tensorflow) (2.1.2)\n",
            "Requirement already satisfied: zipp>=0.5 in /usr/local/lib/python3.9/dist-packages (from importlib-metadata>=4.4->markdown>=2.6.8->tensorboard<2.12,>=2.11->tensorflow) (3.15.0)\n",
            "Requirement already satisfied: pyasn1<0.5.0,>=0.4.6 in /usr/local/lib/python3.9/dist-packages (from pyasn1-modules>=0.2.1->google-auth<3,>=1.6.3->tensorboard<2.12,>=2.11->tensorflow) (0.4.8)\n",
            "Requirement already satisfied: oauthlib>=3.0.0 in /usr/local/lib/python3.9/dist-packages (from requests-oauthlib>=0.7.0->google-auth-oauthlib<0.5,>=0.4.1->tensorboard<2.12,>=2.11->tensorflow) (3.2.2)\n",
            "\u001b[2K     \u001b[90m━━━━━━━━━━━━━━━━━━━━━━━━━━━━━━━━━━━━━━\u001b[0m \u001b[32m819.9/819.9 KB\u001b[0m \u001b[31m35.8 MB/s\u001b[0m eta \u001b[36m0:00:00\u001b[0m\n",
            "\u001b[2K     \u001b[90m━━━━━━━━━━━━━━━━━━━━━━━━━━━━━━━━━━━━━━━━\u001b[0m \u001b[32m15.7/15.7 MB\u001b[0m \u001b[31m60.2 MB/s\u001b[0m eta \u001b[36m0:00:00\u001b[0m\n",
            "\u001b[2K     \u001b[90m━━━━━━━━━━━━━━━━━━━━━━━━━━━━━━━━━━━━━━\u001b[0m \u001b[32m251.7/251.7 KB\u001b[0m \u001b[31m16.4 MB/s\u001b[0m eta \u001b[36m0:00:00\u001b[0m\n",
            "\u001b[2K     \u001b[90m━━━━━━━━━━━━━━━━━━━━━━━━━━━━━━━━━━━━━━━━\u001b[0m \u001b[32m46.0/46.0 KB\u001b[0m \u001b[31m3.3 MB/s\u001b[0m eta \u001b[36m0:00:00\u001b[0m\n",
            "\u001b[2K     \u001b[90m━━━━━━━━━━━━━━━━━━━━━━━━━━━━━━━━━━━━━━━━\u001b[0m \u001b[32m4.0/4.0 MB\u001b[0m \u001b[31m62.9 MB/s\u001b[0m eta \u001b[36m0:00:00\u001b[0m\n",
            "\u001b[2K     \u001b[90m━━━━━━━━━━━━━━━━━━━━━━━━━━━━━━━━━━━━━━━\u001b[0m \u001b[32m498.1/498.1 MB\u001b[0m \u001b[31m3.3 MB/s\u001b[0m eta \u001b[36m0:00:00\u001b[0m\n",
            "\u001b[2K     \u001b[90m━━━━━━━━━━━━━━━━━━━━━━━━━━━━━━━━━━━━━━━━\u001b[0m \u001b[32m53.7/53.7 KB\u001b[0m \u001b[31m5.7 MB/s\u001b[0m eta \u001b[36m0:00:00\u001b[0m\n",
            "\u001b[2K     \u001b[90m━━━━━━━━━━━━━━━━━━━━━━━━━━━━━━━━━━━━━━\u001b[0m \u001b[32m887.3/887.3 KB\u001b[0m \u001b[31m50.6 MB/s\u001b[0m eta \u001b[36m0:00:00\u001b[0m\n",
            "\u001b[?25h  Preparing metadata (setup.py) ... \u001b[?25l\u001b[?25hdone\n",
            "\u001b[2K     \u001b[90m━━━━━━━━━━━━━━━━━━━━━━━━━━━━━━━━━━━━━━━━\u001b[0m \u001b[32m65.2/65.2 MB\u001b[0m \u001b[31m13.8 MB/s\u001b[0m eta \u001b[36m0:00:00\u001b[0m\n",
            "\u001b[2K     \u001b[90m━━━━━━━━━━━━━━━━━━━━━━━━━━━━━━━━━━━━━━━━\u001b[0m \u001b[32m42.6/42.6 KB\u001b[0m \u001b[31m5.0 MB/s\u001b[0m eta \u001b[36m0:00:00\u001b[0m\n",
            "\u001b[2K     \u001b[90m━━━━━━━━━━━━━━━━━━━━━━━━━━━━━━━━━━━━━━━━\u001b[0m \u001b[32m1.4/1.4 MB\u001b[0m \u001b[31m73.6 MB/s\u001b[0m eta \u001b[36m0:00:00\u001b[0m\n",
            "\u001b[2K     \u001b[90m━━━━━━━━━━━━━━━━━━━━━━━━━━━━━━━━━━━━━━━━\u001b[0m \u001b[32m5.8/5.8 MB\u001b[0m \u001b[31m105.8 MB/s\u001b[0m eta \u001b[36m0:00:00\u001b[0m\n",
            "\u001b[2K     \u001b[90m━━━━━━━━━━━━━━━━━━━━━━━━━━━━━━━━━━━━━━\u001b[0m \u001b[32m462.3/462.3 KB\u001b[0m \u001b[31m43.2 MB/s\u001b[0m eta \u001b[36m0:00:00\u001b[0m\n",
            "\u001b[?25h  Building wheel for jax (setup.py) ... \u001b[?25l\u001b[?25hdone\n",
            "\u001b[31mERROR: pip's dependency resolver does not currently take into account all the packages that are installed. This behaviour is the source of the following dependency conflicts.\n",
            "tensorflow-compression 2.11.0 requires tensorflow~=2.11.0, but you have tensorflow 2.8.4 which is incompatible.\n",
            "spacy 3.5.1 requires tqdm<5.0.0,>=4.38.0, but you have tqdm 4.28.1 which is incompatible.\n",
            "pytype 2022.12.15 requires attrs>=21.4.0, but you have attrs 21.2.0 which is incompatible.\n",
            "pymc 5.1.2 requires cachetools>=4.2.1, but you have cachetools 3.1.1 which is incompatible.\n",
            "prophet 1.1.2 requires tqdm>=4.36.1, but you have tqdm 4.28.1 which is incompatible.\n",
            "panel 0.14.4 requires tqdm>=4.48.0, but you have tqdm 4.28.1 which is incompatible.\n",
            "pandas-profiling 3.2.0 requires tqdm>=4.48.2, but you have tqdm 4.28.1 which is incompatible.\n",
            "orbax 0.1.6 requires jax>=0.4.6, but you have jax 0.2.28 which is incompatible.\n",
            "grpcio-status 1.48.2 requires grpcio>=1.48.2, but you have grpcio 1.34.1 which is incompatible.\n",
            "google-cloud-bigquery 3.4.2 requires grpcio<2.0dev,>=1.47.0, but you have grpcio 1.34.1 which is incompatible.\n",
            "flax 0.6.7 requires jax>=0.4.2, but you have jax 0.2.28 which is incompatible.\n",
            "dp-accounting 0.3.0 requires attrs~=21.4.0, but you have attrs 21.2.0 which is incompatible.\n",
            "arviz 0.15.1 requires scipy>=1.8.0, but you have scipy 1.7.3 which is incompatible.\u001b[0m\u001b[31m\n",
            "\u001b[0mLooking in indexes: https://pypi.org/simple, https://us-python.pkg.dev/colab-wheels/public/simple/\n",
            "Collecting matplotlib==3.1.3\n",
            "  Downloading matplotlib-3.1.3.tar.gz (40.9 MB)\n",
            "\u001b[2K     \u001b[90m━━━━━━━━━━━━━━━━━━━━━━━━━━━━━━━━━━━━━━━━\u001b[0m \u001b[32m40.9/40.9 MB\u001b[0m \u001b[31m13.1 MB/s\u001b[0m eta \u001b[36m0:00:00\u001b[0m\n",
            "\u001b[?25h  Preparing metadata (setup.py) ... \u001b[?25l\u001b[?25hdone\n",
            "Requirement already satisfied: cycler>=0.10 in /usr/local/lib/python3.9/dist-packages (from matplotlib==3.1.3) (0.11.0)\n",
            "Requirement already satisfied: kiwisolver>=1.0.1 in /usr/local/lib/python3.9/dist-packages (from matplotlib==3.1.3) (1.4.4)\n",
            "Requirement already satisfied: pyparsing!=2.0.4,!=2.1.2,!=2.1.6,>=2.0.1 in /usr/local/lib/python3.9/dist-packages (from matplotlib==3.1.3) (3.0.9)\n",
            "Requirement already satisfied: python-dateutil>=2.1 in /usr/local/lib/python3.9/dist-packages (from matplotlib==3.1.3) (2.8.2)\n",
            "Requirement already satisfied: numpy>=1.11 in /usr/local/lib/python3.9/dist-packages (from matplotlib==3.1.3) (1.21.6)\n",
            "Requirement already satisfied: six>=1.5 in /usr/local/lib/python3.9/dist-packages (from python-dateutil>=2.1->matplotlib==3.1.3) (1.16.0)\n",
            "Building wheels for collected packages: matplotlib\n",
            "  Building wheel for matplotlib (setup.py) ... \u001b[?25l\u001b[?25hdone\n",
            "  Created wheel for matplotlib: filename=matplotlib-3.1.3-cp39-cp39-linux_x86_64.whl size=12062288 sha256=6d4c908a8caeee714ca0355a4b31c2e57dff0d9d91462a364f77014e13094b74\n",
            "  Stored in directory: /root/.cache/pip/wheels/88/5f/33/d7b8943eba74fdfbd535c83cefcf366c25b0f9cb6424e763e7\n",
            "Successfully built matplotlib\n",
            "Installing collected packages: matplotlib\n",
            "  Attempting uninstall: matplotlib\n",
            "    Found existing installation: matplotlib 3.7.1\n",
            "    Uninstalling matplotlib-3.7.1:\n",
            "      Successfully uninstalled matplotlib-3.7.1\n",
            "\u001b[31mERROR: pip's dependency resolver does not currently take into account all the packages that are installed. This behaviour is the source of the following dependency conflicts.\n",
            "prophet 1.1.2 requires tqdm>=4.36.1, but you have tqdm 4.28.1 which is incompatible.\n",
            "plotnine 0.10.1 requires matplotlib>=3.5.0, but you have matplotlib 3.1.3 which is incompatible.\n",
            "pandas-profiling 3.2.0 requires matplotlib>=3.2.0, but you have matplotlib 3.1.3 which is incompatible.\n",
            "pandas-profiling 3.2.0 requires tqdm>=4.48.2, but you have tqdm 4.28.1 which is incompatible.\n",
            "mizani 0.8.1 requires matplotlib>=3.5.0, but you have matplotlib 3.1.3 which is incompatible.\n",
            "arviz 0.15.1 requires matplotlib>=3.2, but you have matplotlib 3.1.3 which is incompatible.\n",
            "arviz 0.15.1 requires scipy>=1.8.0, but you have scipy 1.7.3 which is incompatible.\u001b[0m\u001b[31m\n",
            "\u001b[0mSuccessfully installed matplotlib-3.1.3\n"
          ]
        }
      ],
      "source": [
        "!pip install --quiet --upgrade tensorflow-federated\n",
        "!pip install --quiet --upgrade tensorflow-model-optimization\n",
        "!pip install --quiet --upgrade nest-asyncio\n",
        "\n",
        "import nest_asyncio\n",
        "nest_asyncio.apply()\n",
        "\n",
        "%load_ext tensorboard\n",
        "\n",
        "!pip install tensorflow\n",
        "!pip install --quiet tensorflow-federated==0.20.0\n",
        "!pip install matplotlib==3.1.3"
      ]
    },
    {
      "cell_type": "markdown",
      "metadata": {
        "id": "rdhw07MIQjBL"
      },
      "source": [
        "## Importing all the required libraries"
      ]
    },
    {
      "cell_type": "code",
      "execution_count": 20,
      "metadata": {
        "id": "4Q42kiitHKZg"
      },
      "outputs": [],
      "source": [
        "import collections\n",
        "import random\n",
        "from typing import Any, List, Optional, Sequence\n",
        "import dp_accounting\n",
        "import numpy as np\n",
        "import matplotlib.pyplot as plt\n",
        "import tensorflow as tf\n",
        "import tensorflow_federated as tff\n",
        "import pandas as pd\n",
        "\n",
        "np.random.seed(0)"
      ]
    },
    {
      "cell_type": "markdown",
      "metadata": {
        "id": "ci6xec_kGqKE"
      },
      "source": [
        "### Checking setup of TFF environment"
      ]
    },
    {
      "cell_type": "code",
      "execution_count": 21,
      "metadata": {
        "colab": {
          "base_uri": "https://localhost:8080/"
        },
        "id": "PTMC__HCGpkY",
        "outputId": "be8ac1e1-2312-4d7b-d054-0a93f78b7ef7"
      },
      "outputs": [
        {
          "output_type": "execute_result",
          "data": {
            "text/plain": [
              "b'Hello, World!'"
            ]
          },
          "metadata": {},
          "execution_count": 21
        }
      ],
      "source": [
        "@tff.federated_computation\n",
        "def hello_world():\n",
        "  return 'Hello, World!'\n",
        "\n",
        "hello_world()\n",
        "# tf.config.list_physical_devices('GPU')"
      ]
    },
    {
      "cell_type": "markdown",
      "metadata": {
        "id": "JvxxSKCjTID3"
      },
      "source": [
        "## Loading Dataset"
      ]
    },
    {
      "cell_type": "code",
      "execution_count": 22,
      "metadata": {
        "id": "p0C0AHiuHgLH"
      },
      "outputs": [],
      "source": [
        "def element_fn(element):\n",
        "  return collections.OrderedDict(\n",
        "        x=tf.expand_dims(element['pixels'], -1), y=element['label'])\n",
        "\n",
        "def preprocess_train_dataset(dataset):\n",
        "    # Use buffer_size same as the maximum client dataset size,\n",
        "    # 418 for Federated EMNIST\n",
        "    return (dataset.map(element_fn)\n",
        "                   .shuffle(buffer_size=418)\n",
        "                   .repeat(1)\n",
        "                   .batch(32, drop_remainder=False))\n",
        "\n",
        "def preprocess_test_dataset(dataset):\n",
        "  return dataset.map(element_fn).batch(128, drop_remainder=False)\n",
        "\n",
        "def get_emnist_dataset():\n",
        "  emnist_train, emnist_test = tff.simulation.datasets.emnist.load_data(\n",
        "      only_digits=True)\n",
        "  emnist_train = emnist_train.preprocess(preprocess_train_dataset)\n",
        "  emnist_test = preprocess_test_dataset(\n",
        "      emnist_test.create_tf_dataset_from_all_clients())\n",
        "  return emnist_train, emnist_test\n",
        "train_data, test_data = get_emnist_dataset()"
      ]
    },
    {
      "cell_type": "markdown",
      "metadata": {
        "id": "BNTFpc4vUKL8"
      },
      "source": [
        "### Exploring Datset & Dataset Characterstics"
      ]
    },
    {
      "cell_type": "code",
      "execution_count": 23,
      "metadata": {
        "id": "H-7peVpVVc2o"
      },
      "outputs": [],
      "source": [
        "def preprocess(dataset):\n",
        "\n",
        "  def map_fn(element):\n",
        "    # Rename the features from `pixels` and `label`, to `x` and `y` for use with\n",
        "    # Keras.\n",
        "    return collections.OrderedDict(\n",
        "        # Transform each `28x28` image into a `784`-element array.\n",
        "        x=tf.reshape(element['pixels'], [-1, 784]),\n",
        "        y=tf.reshape(element['label'], [-1, 1]))\n",
        "\n",
        "  # Shuffle the individual examples and `repeat` over several epochs.\n",
        "  return dataset.repeat(NUM_EPOCHS).shuffle(SHUFFLE_BUFFER, seed=1).map(map_fn)"
      ]
    },
    {
      "cell_type": "code",
      "execution_count": 24,
      "metadata": {
        "id": "R5MCksKMKPlj"
      },
      "outputs": [],
      "source": [
        "emnist_train, emnist_test = tff.simulation.datasets.emnist.load_data()"
      ]
    },
    {
      "cell_type": "code",
      "execution_count": 25,
      "metadata": {
        "colab": {
          "base_uri": "https://localhost:8080/",
          "height": 265
        },
        "id": "TKjRVyzFKivK",
        "outputId": "238d39c6-6f64-41be-ddea-729729522691"
      },
      "outputs": [
        {
          "output_type": "display_data",
          "data": {
            "text/plain": [
              "<Figure size 432x288 with 1 Axes>"
            ],
            "image/png": "[encoded data removed]"
          },
          "metadata": {
            "needs_background": "light"
          }
        }
      ],
      "source": [
        "import matplotlib.pyplot as plt\n",
        "\n",
        "example_dataset = emnist_train.create_tf_dataset_for_client(\n",
        "    emnist_train.client_ids[0])\n",
        "\n",
        "example_element = next(iter(example_dataset))\n",
        "\n",
        "example_element['label'].numpy()\n",
        "from matplotlib import pyplot as plt\n",
        "plt.imshow(example_element['pixels'].numpy(), cmap='gray', aspect='equal')\n",
        "plt.grid(False)\n",
        "_ = plt.show()"
      ]
    },
    {
      "cell_type": "code",
      "execution_count": 26,
      "metadata": {
        "colab": {
          "base_uri": "https://localhost:8080/"
        },
        "id": "loD_klOQUIwm",
        "outputId": "9722461e-8190-4b13-c229-e5f612fca6d0"
      },
      "outputs": [
        {
          "output_type": "execute_result",
          "data": {
            "text/plain": [
              "1"
            ]
          },
          "metadata": {},
          "execution_count": 26
        }
      ],
      "source": [
        "example_dataset = emnist_train.create_tf_dataset_for_client(\n",
        "    emnist_train.client_ids[0])\n",
        "\n",
        "NUM_EPOCHS = 5\n",
        "SHUFFLE_BUFFER = 100\n",
        "preprocessed_example_dataset = preprocess(example_dataset)\n",
        "\n",
        "\n",
        "example_element = next(iter(example_dataset))\n",
        "\n",
        "example_element['label'].numpy()"
      ]
    },
    {
      "cell_type": "markdown",
      "metadata": {
        "id": "U31rNiFHVYyx"
      },
      "source": [
        "***Showing each client have multiple images and different values to input***"
      ]
    },
    {
      "cell_type": "code",
      "execution_count": 27,
      "metadata": {
        "colab": {
          "base_uri": "https://localhost:8080/",
          "height": 479
        },
        "id": "OGXivOEDUqEv",
        "outputId": "18667a62-9eac-4a6b-e7ad-9ea2dff31396"
      },
      "outputs": [
        {
          "output_type": "display_data",
          "data": {
            "text/plain": [
              "<Figure size 864x504 with 6 Axes>"
            ],
            "image/png": "[encoded data removed]"
          },
          "metadata": {
            "needs_background": "light"
          }
        }
      ],
      "source": [
        "# Number of examples per layer for a sample of clients\n",
        "f = plt.figure(figsize=(12, 7))\n",
        "f.suptitle('Label Counts for a Sample of Clients')\n",
        "for i in range(6):\n",
        "  client_dataset = emnist_train.create_tf_dataset_for_client(\n",
        "      emnist_train.client_ids[i])\n",
        "  plot_data = collections.defaultdict(list)\n",
        "  for example in client_dataset:\n",
        "    # Append counts individually per label to make plots\n",
        "    # more colorful instead of one color per plot.\n",
        "    label = example['label'].numpy()\n",
        "    plot_data[label].append(label)\n",
        "  plt.subplot(2, 3, i+1)\n",
        "  plt.title('Client {}'.format(i))\n",
        "  for j in range(10):\n",
        "    plt.hist(\n",
        "        plot_data[j],\n",
        "        density=False,\n",
        "        bins=[0, 1, 2, 3, 4, 5, 6, 7, 8, 9, 10])"
      ]
    },
    {
      "cell_type": "markdown",
      "metadata": {
        "id": "OovNtreqVqjt"
      },
      "source": [
        "### Define our model"
      ]
    },
    {
      "cell_type": "code",
      "execution_count": 28,
      "metadata": {
        "id": "FLlhRLmDM33L"
      },
      "outputs": [],
      "source": [
        "def my_model_fn():\n",
        "  model = tf.keras.models.Sequential([\n",
        "      tf.keras.layers.Reshape(input_shape=(28, 28, 1), target_shape=(28 * 28,)),\n",
        "      tf.keras.layers.Dense(200, activation=tf.nn.relu),\n",
        "      tf.keras.layers.Dense(200, activation=tf.nn.relu),\n",
        "      tf.keras.layers.Dense(10)])\n",
        "  return tff.learning.from_keras_model(\n",
        "      keras_model=model,\n",
        "      loss=tf.keras.losses.SparseCategoricalCrossentropy(from_logits=True),\n",
        "      input_spec=test_data.element_spec,\n",
        "      metrics=[tf.keras.metrics.SparseCategoricalAccuracy()])"
      ]
    },
    {
      "cell_type": "markdown",
      "metadata": {
        "id": "YiPm6vsDZOAe"
      },
      "source": [
        "### Determining the noise sensitivity of the model"
      ]
    },
    {
      "cell_type": "code",
      "execution_count": 29,
      "metadata": {
        "id": "EDDkubYpY-Ft"
      },
      "outputs": [],
      "source": [
        "total_clients = len(train_data.client_ids)\n",
        "clients_per_thread = 5\n",
        "\n",
        "# Create a local executor with a fixed number of threads\n",
        "num_threads = total_clients // clients_per_thread\n",
        "local_executor = tff.framework.local_executor_factory(num_threads)\n",
        "\n",
        "# Create a local execution context with the executor\n",
        "local_execution_context = tff.framework.ExecutionContext(local_executor)\n",
        "\n",
        "# Set the local execution context as the default context\n",
        "tff.framework.set_default_context(local_execution_context)"
      ]
    },
    {
      "cell_type": "code",
      "execution_count": 30,
      "metadata": {
        "id": "7DOE39AEfz7X"
      },
      "outputs": [],
      "source": [
        "def train(rounds, noise_multiplier, clients_per_round, data_frame):\n",
        "  # Using the `dp_aggregator` here turns on differential privacy with adaptive\n",
        "  # clipping.\n",
        "  aggregation_factory = tff.learning.model_update_aggregator.dp_aggregator(\n",
        "      noise_multiplier, clients_per_round)\n",
        "\n",
        "  # We use Poisson subsampling which gives slightly tighter privacy guarantees\n",
        "  # compared to having a fixed number of clients per round. The actual number of\n",
        "  # clients per round is stochastic with mean clients_per_round.\n",
        "  sampling_prob = clients_per_round / total_clients\n",
        "\n",
        "  # Build a federated averaging process.\n",
        "  # Typically a non-adaptive server optimizer is used because the noise in the\n",
        "  # updates can cause the second moment accumulators to become very large\n",
        "  # prematurely.\n",
        "  learning_process = tff.learning.algorithms.build_unweighted_fed_avg(\n",
        "        my_model_fn,\n",
        "        client_optimizer_fn=lambda: tf.keras.optimizers.SGD(0.01),\n",
        "        server_optimizer_fn=lambda: tf.keras.optimizers.SGD(1.0, momentum=0.9),\n",
        "        model_aggregator=aggregation_factory)\n",
        "\n",
        "  eval_process = tff.learning.build_federated_evaluation(my_model_fn)\n",
        "    \n",
        "  # Training loop.\n",
        "  state = learning_process.initialize()\n",
        "  for round in range(rounds):\n",
        "    if round % 5 == 0:\n",
        "      model_weights = learning_process.get_model_weights(state)\n",
        "      metrics = eval_process(model_weights, [test_data])['eval']\n",
        "      if round < 25 or round % 25 == 0:\n",
        "        print(f'Round {round:3d}: {metrics}')\n",
        "      data_frame = data_frame.append({'Round': round,\n",
        "                                      'NoiseMultiplier': noise_multiplier,\n",
        "                                      **metrics}, ignore_index=True)\n",
        "\n",
        "    # Sample clients for a round. Note that if your dataset is large and\n",
        "    # sampling_prob is small, it would be faster to use gap sampling.\n",
        "    x = np.random.uniform(size=total_clients)\n",
        "    sampled_clients = [\n",
        "        train_data.client_ids[i] for i in range(total_clients)\n",
        "        if x[i] < sampling_prob]\n",
        "    sampled_train_data = [\n",
        "        train_data.create_tf_dataset_for_client(client)\n",
        "        for client in sampled_clients]\n",
        "\n",
        "    # Use selected clients for update.\n",
        "    result = learning_process.next(state, sampled_train_data)\n",
        "    state = result.state\n",
        "    metrics = result.metrics\n",
        "\n",
        "  model_weights = learning_process.get_model_weights(state)\n",
        "  metrics = eval_process(model_weights, [test_data])['eval']\n",
        "  print(f'Round {rounds:3d}: {metrics}')\n",
        "  data_frame = data_frame.append({'Round': rounds,\n",
        "                                  'NoiseMultiplier': noise_multiplier,\n",
        "                                  **metrics}, ignore_index=True)\n",
        "\n",
        "  return data_frame"
      ]
    },
    {
      "cell_type": "code",
      "execution_count": 13,
      "metadata": {
        "colab": {
          "base_uri": "https://localhost:8080/"
        },
        "id": "wIOH5cQukvf2",
        "outputId": "c8f3f3a4-fdf8-45e0-be5f-a570237918d8"
      },
      "outputs": [
        {
          "output_type": "stream",
          "name": "stdout",
          "text": [
            "Starting training with noise multiplier: 0.0\n",
            "Round   0: OrderedDict([('sparse_categorical_accuracy', 0.09389694), ('loss', 2.4363313), ('num_examples', 40832), ('num_batches', 319)])\n",
            "Round   5: OrderedDict([('sparse_categorical_accuracy', 0.17601392), ('loss', 2.2115083), ('num_examples', 40832), ('num_batches', 319)])\n",
            "Round  10: OrderedDict([('sparse_categorical_accuracy', 0.33956212), ('loss', 2.1032736), ('num_examples', 40832), ('num_batches', 319)])\n",
            "Round  15: OrderedDict([('sparse_categorical_accuracy', 0.4866526), ('loss', 1.9080837), ('num_examples', 40832), ('num_batches', 319)])\n",
            "Round  20: OrderedDict([('sparse_categorical_accuracy', 0.6484375), ('loss', 1.6766436), ('num_examples', 40832), ('num_batches', 319)])\n",
            "Round  25: OrderedDict([('sparse_categorical_accuracy', 0.6471885), ('loss', 1.4640253), ('num_examples', 40832), ('num_batches', 319)])\n",
            "Round  50: OrderedDict([('sparse_categorical_accuracy', 0.7611432), ('loss', 0.7853521), ('num_examples', 40832), ('num_batches', 319)])\n",
            "\n",
            "Starting training with noise multiplier: 0.5\n",
            "Round   0: OrderedDict([('sparse_categorical_accuracy', 0.1122404), ('loss', 3.1839578), ('num_examples', 40832), ('num_batches', 319)])\n",
            "Round   5: OrderedDict([('sparse_categorical_accuracy', 0.13303292), ('loss', 2.2750905), ('num_examples', 40832), ('num_batches', 319)])\n",
            "Round  10: OrderedDict([('sparse_categorical_accuracy', 0.11358738), ('loss', 2.2185571), ('num_examples', 40832), ('num_batches', 319)])\n",
            "Round  15: OrderedDict([('sparse_categorical_accuracy', 0.30211598), ('loss', 2.0913935), ('num_examples', 40832), ('num_batches', 319)])\n",
            "Round  20: OrderedDict([('sparse_categorical_accuracy', 0.42126274), ('loss', 1.9512765), ('num_examples', 40832), ('num_batches', 319)])\n",
            "Round  25: OrderedDict([('sparse_categorical_accuracy', 0.5234375), ('loss', 1.7259252), ('num_examples', 40832), ('num_batches', 319)])\n",
            "Round  50: OrderedDict([('sparse_categorical_accuracy', 0.75191027), ('loss', 0.8555115), ('num_examples', 40832), ('num_batches', 319)])\n",
            "\n",
            "Starting training with noise multiplier: 0.75\n",
            "Round   0: OrderedDict([('sparse_categorical_accuracy', 0.09903997), ('loss', 2.46057), ('num_examples', 40832), ('num_batches', 319)])\n",
            "Round   5: OrderedDict([('sparse_categorical_accuracy', 0.23596689), ('loss', 2.2375736), ('num_examples', 40832), ('num_batches', 319)])\n",
            "Round  10: OrderedDict([('sparse_categorical_accuracy', 0.26165754), ('loss', 2.1459327), ('num_examples', 40832), ('num_batches', 319)])\n",
            "Round  15: OrderedDict([('sparse_categorical_accuracy', 0.38873923), ('loss', 1.9823874), ('num_examples', 40832), ('num_batches', 319)])\n",
            "Round  20: OrderedDict([('sparse_categorical_accuracy', 0.5144739), ('loss', 1.7377433), ('num_examples', 40832), ('num_batches', 319)])\n",
            "Round  25: OrderedDict([('sparse_categorical_accuracy', 0.60768515), ('loss', 1.5027887), ('num_examples', 40832), ('num_batches', 319)])\n",
            "Round  50: OrderedDict([('sparse_categorical_accuracy', 0.66580135), ('loss', 1.0797194), ('num_examples', 40832), ('num_batches', 319)])\n",
            "\n",
            "Starting training with noise multiplier: 1.0\n",
            "Round   0: OrderedDict([('sparse_categorical_accuracy', 0.09019887), ('loss', 2.500249), ('num_examples', 40832), ('num_batches', 319)])\n",
            "Round   5: OrderedDict([('sparse_categorical_accuracy', 0.18701018), ('loss', 2.251835), ('num_examples', 40832), ('num_batches', 319)])\n",
            "Round  10: OrderedDict([('sparse_categorical_accuracy', 0.16501763), ('loss', 2.1744146), ('num_examples', 40832), ('num_batches', 319)])\n",
            "Round  15: OrderedDict([('sparse_categorical_accuracy', 0.36194652), ('loss', 2.025836), ('num_examples', 40832), ('num_batches', 319)])\n",
            "Round  20: OrderedDict([('sparse_categorical_accuracy', 0.43042222), ('loss', 1.808158), ('num_examples', 40832), ('num_batches', 319)])\n",
            "Round  25: OrderedDict([('sparse_categorical_accuracy', 0.5357318), ('loss', 1.6243473), ('num_examples', 40832), ('num_batches', 319)])\n",
            "Round  50: OrderedDict([('sparse_categorical_accuracy', 0.6392535), ('loss', 1.097293), ('num_examples', 40832), ('num_batches', 319)])\n",
            "\n"
          ]
        }
      ],
      "source": [
        "import warnings\n",
        "warnings.filterwarnings('ignore')\n",
        "\n",
        "\n",
        "data_frame = pd.DataFrame()\n",
        "rounds = 50\n",
        "clients_per_round = 50\n",
        "\n",
        "for noise_multiplier in [0.0, 0.5, 0.75, 1.0]:\n",
        "  print(f'Starting training with noise multiplier: {noise_multiplier}')\n",
        "  data_frame = train(rounds, noise_multiplier, clients_per_round, data_frame)\n",
        "  print()"
      ]
    },
    {
      "cell_type": "markdown",
      "metadata": {
        "id": "GJix24hEZt5b"
      },
      "source": [
        "## Visualising the Evaluation set and accuracy and loss associated to them"
      ]
    },
    {
      "cell_type": "code",
      "execution_count": 14,
      "metadata": {
        "id": "JIeXffk0m90l"
      },
      "outputs": [],
      "source": [
        "import matplotlib.pyplot as plt\n",
        "import seaborn as sns\n",
        "\n",
        "def make_plot(data_frame):\n",
        "  plt.figure(figsize=(15, 5))\n",
        "\n",
        "  dff = data_frame.rename(\n",
        "      columns={'sparse_categorical_accuracy': 'Accuracy', 'loss': 'Loss'})\n",
        "\n",
        "  plt.subplot(121)\n",
        "  sns.lineplot(data=dff, x='Round', y='Accuracy', hue='NoiseMultiplier', palette='dark')\n",
        "  plt.subplot(122)\n",
        "  sns.lineplot(data=dff, x='Round', y='Loss', hue='NoiseMultiplier', palette='dark')"
      ]
    },
    {
      "cell_type": "code",
      "execution_count": 15,
      "metadata": {
        "colab": {
          "base_uri": "https://localhost:8080/",
          "height": 328
        },
        "id": "LYbkzmj2IJ0v",
        "outputId": "5724da76-8144-407f-b11f-6427ff9960b8"
      },
      "outputs": [
        {
          "output_type": "display_data",
          "data": {
            "text/plain": [
              "<Figure size 1080x360 with 2 Axes>"
            ],
            "image/png": "[encoded data removed]"
          },
          "metadata": {
            "needs_background": "light"
          }
        }
      ],
      "source": [
        "make_plot(data_frame)"
      ]
    },
    {
      "cell_type": "code",
      "execution_count": 32,
      "metadata": {
        "colab": {
          "base_uri": "https://localhost:8080/"
        },
        "id": "B6U0p-rsCIgH",
        "outputId": "de4d5507-0dc0-44e2-bdde-015ebc9734fa"
      },
      "outputs": [
        {
          "output_type": "stream",
          "name": "stdout",
          "text": [
            "To get (2, 1e-05)-DP, use 104 clients with noise multiplier 1.04.\n"
          ]
        }
      ],
      "source": [
        "total_clients = 3383\n",
        "noise_to_clients_ratio = 0.01\n",
        "target_delta = 1e-5\n",
        "target_eps = 2\n",
        "rounds=50\n",
        "# Initialize arguments to dp_accounting.calibrate_dp_mechanism.\n",
        "\n",
        "# No-arg callable that returns a fresh accountant.\n",
        "make_fresh_accountant = dp_accounting.rdp.RdpAccountant\n",
        "\n",
        "# Create function that takes expected clients per round and returns a \n",
        "# dp_accounting.DpEvent representing the full training process.\n",
        "def make_event_from_param(clients_per_round):\n",
        "  q = clients_per_round / total_clients\n",
        "  noise_multiplier = clients_per_round * noise_to_clients_ratio\n",
        "  gaussian_event = dp_accounting.GaussianDpEvent(noise_multiplier)\n",
        "  sampled_event = dp_accounting.PoissonSampledDpEvent(q, gaussian_event)\n",
        "  composed_event = dp_accounting.SelfComposedDpEvent(sampled_event, rounds)\n",
        "  return composed_event\n",
        "\n",
        "# Create object representing the search range [1, 3383].\n",
        "bracket_interval = dp_accounting.ExplicitBracketInterval(1, total_clients)\n",
        "\n",
        "# Perform search for smallest clients_per_round achieving the target privacy.\n",
        "clients_per_round = dp_accounting.calibrate_dp_mechanism(\n",
        "    make_fresh_accountant, make_event_from_param, target_eps, target_delta,\n",
        "    bracket_interval, discrete=True\n",
        ")\n",
        "\n",
        "noise_multiplier = clients_per_round * noise_to_clients_ratio\n",
        "print(f'To get ({target_eps}, {target_delta})-DP, use {clients_per_round} '\n",
        "      f'clients with noise multiplier {noise_multiplier}.')\n"
      ]
    },
    {
      "cell_type": "code",
      "execution_count": 33,
      "metadata": {
        "id": "IUqjTvYuCJJd",
        "colab": {
          "base_uri": "https://localhost:8080/"
        },
        "outputId": "4677a240-822b-4841-df24-f799b466b136"
      },
      "outputs": [
        {
          "output_type": "stream",
          "name": "stdout",
          "text": [
            "Looking in indexes: https://pypi.org/simple, https://us-python.pkg.dev/colab-wheels/public/simple/\n",
            "Requirement already satisfied: nest_asyncio in /usr/local/lib/python3.9/dist-packages (1.5.6)\n",
            "Round   0: OrderedDict([('sparse_categorical_accuracy', 0.098427705), ('loss', 2.5169594), ('num_examples', 40832), ('num_batches', 319)])\n",
            "Round   5: OrderedDict([('sparse_categorical_accuracy', 0.14630681), ('loss', 2.2472532), ('num_examples', 40832), ('num_batches', 319)])\n",
            "Round  10: OrderedDict([('sparse_categorical_accuracy', 0.3645915), ('loss', 2.1319683), ('num_examples', 40832), ('num_batches', 319)])\n",
            "Round  15: OrderedDict([('sparse_categorical_accuracy', 0.53369904), ('loss', 1.9543078), ('num_examples', 40832), ('num_batches', 319)])\n",
            "Round  20: OrderedDict([('sparse_categorical_accuracy', 0.5737412), ('loss', 1.7561852), ('num_examples', 40832), ('num_batches', 319)])\n",
            "Round  25: OrderedDict([('sparse_categorical_accuracy', 0.6170406), ('loss', 1.536851), ('num_examples', 40832), ('num_batches', 319)])\n",
            "Round  50: OrderedDict([('sparse_categorical_accuracy', 0.7557063), ('loss', 0.8021605), ('num_examples', 40832), ('num_batches', 319)])\n"
          ]
        }
      ],
      "source": [
        "!pip install nest_asyncio\n",
        "import nest_asyncio\n",
        "import warnings\n",
        "\n",
        "warnings.filterwarnings('ignore')\n",
        "nest_asyncio.apply()\n",
        "\n",
        "\n",
        "rounds = 50\n",
        "noise_multiplier = 1.04\n",
        "clients_per_round = 120\n",
        "# total_clients = 3383\n",
        "data_frame = pd.DataFrame()\n",
        "data_frame = train(rounds, noise_multiplier, clients_per_round, data_frame)\n"
      ]
    },
    {
      "cell_type": "code",
      "source": [
        "import seaborn as sns\n",
        "\n",
        "def make_plot(data_frame):\n",
        "  plt.figure(figsize=(15, 5))\n",
        "\n",
        "  dff = data_frame.rename(\n",
        "      columns={'sparse_categorical_accuracy': 'Accuracy', 'loss': 'Loss'})\n",
        "\n",
        "  plt.subplot(121)\n",
        "  sns.lineplot(data=dff, x='Round', y='Accuracy', hue='NoiseMultiplier', palette='dark')\n",
        "  plt.subplot(122)\n",
        "  sns.lineplot(data=dff, x='Round', y='Loss', hue='NoiseMultiplier', palette='dark')\n",
        "\n",
        "\n",
        "make_plot(data_frame)"
      ],
      "metadata": {
        "colab": {
          "base_uri": "https://localhost:8080/",
          "height": 328
        },
        "id": "abndTQaEaZsO",
        "outputId": "2f44b8d4-e25c-4718-a33f-6abb3db9f151"
      },
      "execution_count": 38,
      "outputs": [
        {
          "output_type": "display_data",
          "data": {
            "text/plain": [
              "<Figure size 1080x360 with 2 Axes>"
            ],
            "image/png": "[encoded data removed]"
          },
          "metadata": {
            "needs_background": "light"
          }
        }
      ]
    }
  ],
  "metadata": {
    "colab": {
      "provenance": []
    },
    "gpuClass": "standard",
    "kernelspec": {
      "display_name": "Python 3",
      "language": "python",
      "name": "python3"
    },
    "language_info": {
      "codemirror_mode": {
        "name": "ipython",
        "version": 3
      },
      "file_extension": ".py",
      "mimetype": "text/x-python",
      "name": "python",
      "nbconvert_exporter": "python",
      "pygments_lexer": "ipython3",
      "version": "3.10.5"
    },
    "vscode": {
      "interpreter": {
        "hash": "21a33947696a2198c46f8b6efbd16c0bc5101f8db40bc30b8d5a0383db38fbc0"
      }
    },
    "accelerator": "GPU"
  },
  "nbformat": 4,
  "nbformat_minor": 0
}